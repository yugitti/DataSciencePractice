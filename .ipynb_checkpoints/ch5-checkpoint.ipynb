{
 "cells": [
  {
   "cell_type": "code",
   "execution_count": 2,
   "metadata": {},
   "outputs": [],
   "source": [
    "import numpy as np\n",
    "import matplotlib.pyplot as plt\n",
    "import seaborn as sns\n",
    "import pandas as pd\n",
    "from scipy import stats\n",
    "%precision 4\n",
    "%matplotlib inline"
   ]
  },
  {
   "cell_type": "markdown",
   "metadata": {},
   "source": [
    "#### scipy使い方全般"
   ]
  },
  {
   "cell_type": "markdown",
   "metadata": {},
   "source": [
    "#### 線形補間"
   ]
  },
  {
   "cell_type": "code",
   "execution_count": 3,
   "metadata": {},
   "outputs": [],
   "source": [
    "x = np.linspace(0,10,num=11, endpoint=True)\n",
    "y = np.cos(-x**2/5.0)"
   ]
  },
  {
   "cell_type": "code",
   "execution_count": 16,
   "metadata": {},
   "outputs": [
    {
     "data": {
      "text/plain": [
       "<matplotlib.legend.Legend at 0x1a1b553978>"
      ]
     },
     "execution_count": 16,
     "metadata": {},
     "output_type": "execute_result"
    },
    {
     "data": {
      "image/png": "[encoded data removed]",
      "text/plain": [
       "<Figure size 432x288 with 1 Axes>"
      ]
     },
     "metadata": {
      "needs_background": "dark"
     },
     "output_type": "display_data"
    }
   ],
   "source": [
    "from scipy import interpolate\n",
    "f1 = interpolate.interp1d(x,y,'linear')\n",
    "f2 = interpolate.interp1d(x,y,'quadratic')\n",
    "f3 = interpolate.interp1d(x,y,'cubic')\n",
    "xx = np.linspace(0,10,100)\n",
    "plt.scatter(x,y, marker='o')\n",
    "plt.plot(xx,f1(xx), label='1-order')\n",
    "plt.plot(xx,f2(xx), label='2-order')\n",
    "plt.plot(xx,f3(xx), label='3-order')\n",
    "plt.legend()"
   ]
  },
  {
   "cell_type": "markdown",
   "metadata": {},
   "source": [
    "#### 線形代数: 行列の分解"
   ]
  },
  {
   "cell_type": "code",
   "execution_count": 28,
   "metadata": {},
   "outputs": [],
   "source": [
    "import scipy as sp\n",
    "A = np.array(range(1,11,1)).reshape(2,-1)"
   ]
  },
  {
   "cell_type": "markdown",
   "metadata": {},
   "source": [
    "#### 特異値分解"
   ]
  },
  {
   "cell_type": "code",
   "execution_count": 91,
   "metadata": {},
   "outputs": [
    {
     "name": "stdout",
     "output_type": "stream",
     "text": [
      "[[ 5.0000e+00  1.0000e+00  1.0000e+00  1.0000e+00  1.0000e+00]\n",
      " [ 1.0000e+00  1.0000e+00  1.9151e-16  3.1920e-17  0.0000e+00]\n",
      " [ 1.0000e+00 -2.7663e-16  1.0000e+00  7.0311e-17  4.1633e-17]\n",
      " [ 1.0000e+00 -1.8696e-16  2.4326e-16  1.0000e+00  7.6328e-17]\n",
      " [ 1.0000e+00 -1.3891e-16 -1.3891e-16  3.0518e-16  1.0000e+00]]\n"
     ]
    }
   ],
   "source": [
    "U, s, V = sp.linalg.svd(A)\n",
    "m, n = A.shape\n",
    "S = sp.linalg.diagsvd(s,m,n) # 対角行列\n",
    "print(U@S@V)"
   ]
  },
  {
   "cell_type": "markdown",
   "metadata": {},
   "source": [
    "#### LU分解\n",
    "行列を上三角行列と下三角行列に分解する手法  \n",
    "連立方程式を高速に解くことができる"
   ]
  },
  {
   "cell_type": "code",
   "execution_count": 90,
   "metadata": {},
   "outputs": [
    {
     "name": "stdout",
     "output_type": "stream",
     "text": [
      "[-3.  4.  4.  4.  4.]\n"
     ]
    }
   ],
   "source": [
    "# LU分解\n",
    "#参考URL: https://mathwords.net/lubunkai\n",
    "A = np.identity(5)\n",
    "A[0,:] = 1\n",
    "A[:,0] = 1\n",
    "A[0,0] = 5\n",
    "b = np.ones(5)\n",
    "# Ax - b = 0 を解く\n",
    "LU, piv = sp.linalg.lu_factor(A)\n",
    "L = np.identity(5) + np.tril(LU,-1) # 対角成分は1の下三角行列\n",
    "U = np.triu(LU) # 対角成分はLUを用いた上三角行列\n",
    "# L@U = A となる\n",
    "# x = sp.linalg.lu_solve((LU, piv), b) # 省略形、これでも解ける\n",
    "\n",
    "# U x = y, L y = b と分解できる。まずはyを解き、その後 xを解く\n",
    "y = sp.linalg.solve(L, b)\n",
    "x = sp.linalg.solve(U, y)\n",
    "\n",
    "# ちなみに sp.linalg.solveは LUPACKを使って高速に解く手法で下記と等価\n",
    "x = sp.linalg.inv(U)@y\n",
    "\n",
    "print(x)"
   ]
  },
  {
   "cell_type": "markdown",
   "metadata": {},
   "source": [
    "#### コレスキー分解\n",
    "元となる行列が正定値対処行列（上下で対象）のみに有効。LU分解の特殊価値\n",
    "$A = LL^{T}: Lは1上三角行列$"
   ]
  },
  {
   "cell_type": "code",
   "execution_count": 93,
   "metadata": {},
   "outputs": [],
   "source": [
    "A = np.array([[7, -1, 0, 1],\n",
    "            [-1, 9, -2, 2],\n",
    "            [0, -2, 8, -3],\n",
    "            [1, 2, -3, 10]])\n",
    "b = np.array([5, 20, 0, 20])"
   ]
  },
  {
   "cell_type": "code",
   "execution_count": 99,
   "metadata": {},
   "outputs": [],
   "source": [
    "L = sp.linalg.cholesky(A)"
   ]
  },
  {
   "cell_type": "code",
   "execution_count": 107,
   "metadata": {},
   "outputs": [
    {
     "data": {
      "text/plain": [
       "array([[ 7., -1.,  0.,  1.],\n",
       "       [-1.,  9., -2.,  2.],\n",
       "       [ 0., -2.,  8., -3.],\n",
       "       [ 1.,  2., -3., 10.]])"
      ]
     },
     "execution_count": 107,
     "metadata": {},
     "output_type": "execute_result"
    }
   ],
   "source": [
    "# A は Lの転置行列の共役成分(L*)とLの内積\n",
    "L.T.conj()@L # この例ではLは正定行列のため L.T = L.T.conj()"
   ]
  },
  {
   "cell_type": "code",
   "execution_count": 114,
   "metadata": {},
   "outputs": [
    {
     "name": "stdout",
     "output_type": "stream",
     "text": [
      "[-8.8818e-16  3.5527e-15  1.7764e-15  0.0000e+00]\n"
     ]
    }
   ],
   "source": [
    "# L* @ L x = b を解く\n",
    "y = sp.linalg.solve(L.T.conj(), b)\n",
    "x = sp.linalg.solve(L, y)\n",
    "print(A@x - b)"
   ]
  },
  {
   "cell_type": "markdown",
   "metadata": {},
   "source": [
    "#### 練習問題 5-13"
   ]
  },
  {
   "cell_type": "code",
   "execution_count": 125,
   "metadata": {},
   "outputs": [
    {
     "name": "stdout",
     "output_type": "stream",
     "text": [
      "[[ 1.  2.  3.  4.]\n",
      " [ 5.  6.  7.  8.]\n",
      " [ 9. 10. 11. 12.]]\n"
     ]
    }
   ],
   "source": [
    "B = np.arange(1, 13, 1).reshape([3,4])\n",
    "U, s, V = sp.linalg.svd(B)\n",
    "S = sp.linalg.diagsvd(s, B.shape[0], B.shape[1])\n",
    "print(U@S@V)"
   ]
  },
  {
   "cell_type": "markdown",
   "metadata": {},
   "source": [
    "#### 練習問題 5-14"
   ]
  },
  {
   "cell_type": "code",
   "execution_count": 133,
   "metadata": {},
   "outputs": [],
   "source": [
    "A = np.identity(3)\n",
    "A[0,:] = 1\n",
    "A[:, 0] = 1\n",
    "A[0,0] = 3\n",
    "b = np.ones(3)"
   ]
  },
  {
   "cell_type": "code",
   "execution_count": 139,
   "metadata": {},
   "outputs": [
    {
     "name": "stdout",
     "output_type": "stream",
     "text": [
      "[-1.  2.  2.]\n"
     ]
    }
   ],
   "source": [
    "LU, piv = sp.linalg.lu_factor(A)\n",
    "L = sp.identity(len(b)) + sp.linalg.tril(LU, -1)\n",
    "U = sp.linalg.triu(LU)\n",
    "y = sp.linalg.solve(L, b)\n",
    "x = sp.linalg.solve(U, y)\n",
    "print(x)"
   ]
  },
  {
   "cell_type": "code",
   "execution_count": 145,
   "metadata": {},
   "outputs": [],
   "source": [
    "# この方法も使える\n",
    "LU, L, U = sp.linalg.lu(A)\n",
    "y = sp.linalg.solve(L, b)\n",
    "x = sp.linalg.solve(U, y)"
   ]
  },
  {
   "cell_type": "code",
   "execution_count": null,
   "metadata": {},
   "outputs": [],
   "source": []
  }
 ],
 "metadata": {
  "kernelspec": {
   "display_name": "Python 3",
   "language": "python",
   "name": "python3"
  },
  "language_info": {
   "codemirror_mode": {
    "name": "ipython",
    "version": 3
   },
   "file_extension": ".py",
   "mimetype": "text/x-python",
   "name": "python",
   "nbconvert_exporter": "python",
   "pygments_lexer": "ipython3",
   "version": "3.6.6"
  }
 },
 "nbformat": 4,
 "nbformat_minor": 2
}
