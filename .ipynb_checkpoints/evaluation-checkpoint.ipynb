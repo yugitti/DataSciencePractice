{
 "cells": [
  {
   "cell_type": "code",
   "execution_count": 4,
   "metadata": {},
   "outputs": [],
   "source": [
    "import requests, zipfile\n",
    "import io\n",
    "import numpy as np\n",
    "import matplotlib.pyplot as plt\n",
    "import seaborn as sns\n",
    "import pandas as pd\n",
    "%matplotlib inline"
   ]
  },
  {
   "cell_type": "markdown",
   "metadata": {},
   "source": [
    "#### 決定係数について\n",
    "LinearRegressionのscoreはいわゆる$R^2$ 決定係数を指す  \n",
    "$1 - \\frac{\\sum^{n}_{i=1}(y_i - \\hat{y_i})}{\\sum^{n}_{i=1}(y_i - \\bar{y_i)}}, where  \\bar{y}: 平均$"
   ]
  },
  {
   "cell_type": "code",
   "execution_count": 21,
   "metadata": {},
   "outputs": [],
   "source": [
    "def R_score(y, y_pred):\n",
    "    y_mean = y.mean()\n",
    "    return 1 - ((y - y_pred)**2).sum() / ((y - y_mean)**2).sum()    "
   ]
  },
  {
   "cell_type": "code",
   "execution_count": 22,
   "metadata": {},
   "outputs": [
    {
     "data": {
      "text/plain": [
       "0.7333575683901379"
      ]
     },
     "execution_count": 22,
     "metadata": {},
     "output_type": "execute_result"
    }
   ],
   "source": [
    "R_score(y_train, lr.predict(X_train))"
   ]
  },
  {
   "cell_type": "markdown",
   "metadata": {},
   "source": [
    "#### 対数尤度について  \n",
    "対数尤度は誤差分布に正規分布を仮定した線形回帰、その尤度の対数をとったもである。具体的には下記を仮定している。  \n",
    "$y_i = N(\\sum_{i}^{N} w_i x_i, \\sigma^2)$  \n",
    "$\\Pi_{i}^{N} \\frac{1}{\\sqrt{2 \\pi \\sigma^{2}}} exp(\\frac{\\epsilon^{2}}{2 \\sigma^{2}})$  \n",
    "上記の対数をとったものが対数尤度となる  \n",
    "$l = \\frac{N}{2}\\log(2\\pi\\sigma^{2}) - \\frac{1}{2 \\sigma^{2}} \\sum^{N}_{i=1} \\epsilon^{2}$"
   ]
  },
  {
   "cell_type": "code",
   "execution_count": 23,
   "metadata": {},
   "outputs": [],
   "source": [
    "def likelihood(y, y_pred):\n",
    "    error = y - y_pred\n",
    "    v = error.var()\n",
    "    return np.prod(1 / np.sqrt(2*np.pi*v)*np.exp((error**2)/(2*v)))"
   ]
  },
  {
   "cell_type": "code",
   "execution_count": 24,
   "metadata": {},
   "outputs": [],
   "source": [
    "def log_likelihood(y, y_pred):\n",
    "    error = y - y_pred\n",
    "    v = error.var()\n",
    "    N = len(error)\n",
    "    return -N / 2 * np.log(2*np.pi*v) - 1 /(2*v)*np.sum(error**2)"
   ]
  },
  {
   "cell_type": "code",
   "execution_count": 25,
   "metadata": {},
   "outputs": [
    {
     "data": {
      "text/plain": [
       "-958.3271768599877"
      ]
     },
     "execution_count": 25,
     "metadata": {},
     "output_type": "execute_result"
    }
   ],
   "source": [
    "log_likelihood(y_train, lr.predict(X_train))"
   ]
  },
  {
   "cell_type": "markdown",
   "metadata": {},
   "source": [
    "#### AIC\n",
    "AICは残渣誤差（対数尤度の２倍）に変数の自由度を加味したもの。  \n",
    "回帰モデルは少ない変数で目的変数を説明できるほど良いモデルである、という思想を指標化したものである  \n",
    "$AIC = -2 \\times log-Likelihood + 2 \\times (パラメータ数 + 1)$  \n",
    "上記のAICが小さいほど良いモデルとして評価する"
   ]
  },
  {
   "cell_type": "code",
   "execution_count": 26,
   "metadata": {},
   "outputs": [],
   "source": [
    "def AIC(y, y_pred, X):\n",
    "    params = X.shape[1]\n",
    "    L =  log_likelihood(y, y_pred)\n",
    "    return -2 * L + 2 * (params+1)"
   ]
  },
  {
   "cell_type": "markdown",
   "metadata": {},
   "source": [
    "#### BIC\n",
    "尤度に対して罰則項としてパラメータ数およびデータ数を与えたもの  \n",
    "AIC同様小さいほど良いモデルとして評価  \n",
    "$BIC = -2 \\times log-likelihood + (パラメータ数+1) log(データ数)$"
   ]
  },
  {
   "cell_type": "code",
   "execution_count": 27,
   "metadata": {},
   "outputs": [],
   "source": [
    "def BIC(y, y_pred, X):\n",
    "    N, params = X.shape\n",
    "    L =  log_likelihood(y, y_pred)\n",
    "    return -2 * L + (params+1) * np.log(N)"
   ]
  },
  {
   "cell_type": "code",
   "execution_count": 29,
   "metadata": {},
   "outputs": [
    {
     "data": {
      "text/plain": [
       "1935.034833120514"
      ]
     },
     "execution_count": 29,
     "metadata": {},
     "output_type": "execute_result"
    }
   ],
   "source": [
    "BIC(y_train, lr.predict(X_train), X_train)"
   ]
  },
  {
   "cell_type": "markdown",
   "metadata": {},
   "source": [
    "#### 変数増加法  \n",
    "重要度の高い変数から順番に追加、増減はさせない"
   ]
  },
  {
   "cell_type": "code",
   "execution_count": 169,
   "metadata": {},
   "outputs": [],
   "source": [
    "auto = pd.read_csv(\"./automobile.csv\")\n",
    "auto = auto.replace(\"?\", np.nan).dropna()"
   ]
  },
  {
   "cell_type": "code",
   "execution_count": 170,
   "metadata": {},
   "outputs": [],
   "source": [
    "numberList = ['symboling', 'normalized-losses', 'wheel-base', 'length', 'width', 'height',\n",
    "                'curb-weight', 'engine-size', 'bore', 'stroke', 'compression-ratio',\n",
    "                'horsepower','peak-rpm', 'city-mpg', 'highway-mpg', 'price']"
   ]
  },
  {
   "cell_type": "code",
   "execution_count": 171,
   "metadata": {},
   "outputs": [],
   "source": [
    "for column in numberList:\n",
    "    auto[column] = pd.to_numeric(auto[column], errors='coerce')"
   ]
  },
  {
   "cell_type": "code",
   "execution_count": 172,
   "metadata": {},
   "outputs": [],
   "source": [
    "auto = auto[numberList]"
   ]
  },
  {
   "cell_type": "code",
   "execution_count": 173,
   "metadata": {},
   "outputs": [],
   "source": [
    "X = auto.drop('price', axis=1)\n",
    "y = auto['price']"
   ]
  },
  {
   "cell_type": "code",
   "execution_count": 174,
   "metadata": {},
   "outputs": [],
   "source": [
    "X_train, X_test, y_train, y_test = train_test_split(X, y, test_size=0.3, random_state=0)"
   ]
  },
  {
   "cell_type": "code",
   "execution_count": 187,
   "metadata": {},
   "outputs": [],
   "source": [
    "X_train = np.array(X_train)\n",
    "y_train = np.array(y_train)"
   ]
  },
  {
   "cell_type": "code",
   "execution_count": 188,
   "metadata": {},
   "outputs": [],
   "source": [
    "lr = LinearRegression()"
   ]
  },
  {
   "cell_type": "code",
   "execution_count": 271,
   "metadata": {},
   "outputs": [],
   "source": [
    "from sklearn.metrics import mean_squared_error\n",
    "def stepwiseFW(X, y, X_test, y_test):\n",
    "    lr = LinearRegression()\n",
    "    scores = np.array([])\n",
    "    aics = np.array([])\n",
    "    errors = []\n",
    "    for i in range( X.shape[1]):\n",
    "        x = X[:,i].reshape(-1,1)\n",
    "        fit = lr.fit(x, y)\n",
    "        scores = np.append(scores, fit.score(x, y))\n",
    "        aics = np.append(aics, AIC(y, fit.predict(x), x))\n",
    "    indexs = scores.argmax()\n",
    "    indexsBuf = np.argsort(-scores)[1:]\n",
    "    aic = aics[indexs]\n",
    "    fit = lr.fit(X[:, indexs].reshape(-1,1), y)\n",
    "    error = mean_squared_error(y_true=y_test, y_pred=fit.predict(X_test[:, indexs].reshape(-1,1)))\n",
    "    errors.append({str(indexs): error})   \n",
    "\n",
    "    flag = True\n",
    "    while flag:\n",
    "        flag= False\n",
    "        for j, jdx in enumerate(indexsBuf):\n",
    "            indexs = np.append(indexs, jdx)\n",
    "            fit = lr.fit(X[:,indexs], y)\n",
    "            y_pred = fit.predict(X[:, indexs])\n",
    "            aic_temp = AIC(y, y_pred, X[:, indexs])\n",
    "            if aic_temp > aic:\n",
    "                indexs = np.delete(indexs, -1) #先ほど追加したindexを削除\n",
    "            else:\n",
    "                aic = aic_temp\n",
    "                indexsBuf = np.delete(indexsBuf, j) # このindexを採択するため、バッファーから削除\n",
    "                flag = True # このfor loopでパラメータを見つけたため、while継続\n",
    "                temp = list(indexs)\n",
    "                temp = list(map(str, temp))\n",
    "                temp = \",\".join(temp)\n",
    "                error = mean_squared_error(y_true=y_test, y_pred=fit.predict(X_test[:, indexs]))\n",
    "                errors.append({temp: error})\n",
    "                break\n",
    "    return indexs , errors"
   ]
  },
  {
   "cell_type": "code",
   "execution_count": 585,
   "metadata": {},
   "outputs": [],
   "source": [
    "import copy\n",
    "class Stepwise():\n",
    "    \n",
    "    def __init__(self, X_train, y_train, mode=\"FWBW\", evaluation=\"AIC\"):\n",
    "        self.mode = mode\n",
    "        self.lr = LinearRegression()\n",
    "        self.scores, self.evals, self.errors, self.preds, self.idx, self.coef, self.intercept = [], [], [], [], [], [],[]\n",
    "        self.params_num, self.eval_best = 0, 0\n",
    "        self.index_best = []\n",
    "        self.X_train, self.y_train, self.X_test, self.y_test = np.array(X_train), np.array(y_train), np.array(X_test), np.array(y_test)\n",
    "        if evaluation == \"BIC\":\n",
    "            self.eval = BIC\n",
    "        else:\n",
    "            self.eval = AIC\n",
    "        \n",
    "    def run(self):\n",
    "        indexs = self.run_1st()\n",
    "        if self.mode==\"FWBW\":\n",
    "            self.stepwiseFWBW(indexs)\n",
    "        else:\n",
    "            self.stepwiseFW(indexs)\n",
    "        \n",
    "    def run_1st(self):\n",
    "        self.params_num = X.shape[1]\n",
    "        for i in range(self.params_num):\n",
    "            x = self.X_train[:,i].reshape(-1,1)\n",
    "            self.core(x, y_train)\n",
    "            self.idx.append([i])\n",
    "            \n",
    "        self.index_best.append(np.array(self.scores).argmax())\n",
    "        self.eval_best = self.evals[self.index_best[0]]\n",
    "        indexs = list(np.argsort(-np.array(self.scores)))\n",
    "        self.sort(indexs)\n",
    "        indexs = indexs[1:]\n",
    "        return indexs\n",
    "    \n",
    "    def stepwiseFWBW(self, indexs):\n",
    "        flag = True\n",
    "        while flag:\n",
    "            flag= False\n",
    "            j_best_temp, jdx_best_temp = 0, 0\n",
    "            for j, jdx in enumerate(indexs):\n",
    "                self.index_best.append(jdx)\n",
    "                self.core(X[:,self.index_best], y)\n",
    "                self.idx.append( copy.deepcopy(self.index_best))\n",
    "                del self.index_best[-1]\n",
    "                if self.evals[-1] >= self.eval_best:\n",
    "                    pass\n",
    "                else:\n",
    "                    self.eval_best = self.evals[-1]\n",
    "                    j_best_temp = j\n",
    "                    jdx_best_temp = jdx\n",
    "                    flag = True # このfor loopでパラメータを見つけたため、while継続\n",
    "            \n",
    "            if flag:\n",
    "                del indexs[j_best_temp]\n",
    "                self.index_best.append(jdx_best_temp)\n",
    "\n",
    "                    \n",
    "    def stepwiseFW(self, indexs):\n",
    "        flag = True\n",
    "        while flag:\n",
    "            flag= False\n",
    "            for j, jdx in enumerate(indexs):\n",
    "                self.index_best.append(jdx)\n",
    "                self.core(X[:,self.index_best], y)\n",
    "                self.idx.append( copy.deepcopy(self.index_best))\n",
    "                if self.evals[-1] >= self.eval_best:\n",
    "                    del self.index_best[-1]\n",
    "                else:\n",
    "                    self.eval_best = self.evals[-1]\n",
    "                    del indexs[j]\n",
    "                    flag = True # このfor loopでパラメータを見つけたため、while継続\n",
    "                    break\n",
    "        \n",
    "    def core(self, X, y):\n",
    "        XT = self.translateRank(X)\n",
    "        fit = lr.fit(XT, y)\n",
    "        y_pred = fit.predict(XT)\n",
    "        self.evals.append(self.eval(y, y_pred, XT))\n",
    "#         self.evals.append(AIC(y, y_pred, XT))\n",
    "        self.preds.append(y_pred)\n",
    "        self.scores.append(fit.score(XT, y))\n",
    "        self.coef.append(fit.coef_)\n",
    "        self.intercept.append(fit.intercept_)\n",
    "        \n",
    "    def mse(self, X, y):\n",
    "        X = np.array(X)\n",
    "        y = np.array(y)\n",
    "        for i, co, inter in zip(self.idx, self.coef, self.intercept):\n",
    "            y_pred = np.dot(X[:, i], co) + inter\n",
    "            self.errors.append(mean_squared_error(y, y_pred))\n",
    "\n",
    "    def translateRank(self, x):\n",
    "        if x.ndim == 1:\n",
    "            return x.reshape(-1,1)\n",
    "        else:\n",
    "            return x\n",
    "        \n",
    "    def sort(self, idx):\n",
    "        self.evals = self.listGetter(self.evals, idx)\n",
    "        self.preds = self.listGetter(self.preds, idx)\n",
    "        self.scores = self.listGetter(self.scores, idx)\n",
    "#         self.errors = listGetter(self.errors, idx)\n",
    "        self.coef = self.listGetter(self.coef, idx)\n",
    "        self.intercept = self.listGetter(self.intercept, idx)\n",
    "        self.idx = self.listGetter(self.idx, idx)\n",
    "    \n",
    "    def listGetter(self, l, idx):\n",
    "        return [l[i] for i in idx  ]"
   ]
  },
  {
   "cell_type": "code",
   "execution_count": 586,
   "metadata": {},
   "outputs": [],
   "source": [
    "sw1 = Stepwise(X_train, y_train, \"FW\", \"BIC\")\n",
    "sw1.run()\n",
    "sw1.mse(X_test, y_test)\n",
    "sw2 = Stepwise(X_train, y_train, \"FWBW\", \"BIC\")\n",
    "sw2.run()\n",
    "sw2.mse(X_test, y_test)"
   ]
  },
  {
   "cell_type": "code",
   "execution_count": 591,
   "metadata": {},
   "outputs": [
    {
     "name": "stdout",
     "output_type": "stream",
     "text": [
      "0\n",
      "24\n"
     ]
    }
   ],
   "source": [
    "print(np.array(sw1.errors).argmin())\n",
    "print(np.array(sw2.errors).argmin())"
   ]
  },
  {
   "cell_type": "code",
   "execution_count": 592,
   "metadata": {},
   "outputs": [
    {
     "data": {
      "text/plain": [
       "[6, 1]"
      ]
     },
     "execution_count": 592,
     "metadata": {},
     "output_type": "execute_result"
    }
   ],
   "source": [
    "sw2.idx[24]"
   ]
  },
  {
   "cell_type": "code",
   "execution_count": 593,
   "metadata": {},
   "outputs": [
    {
     "data": {
      "text/plain": [
       "[<matplotlib.lines.Line2D at 0x1e5461cf128>]"
      ]
     },
     "execution_count": 593,
     "metadata": {},
     "output_type": "execute_result"
    },
    {
     "data": {
      "image/png": "[encoded data removed]",
      "text/plain": [
       "<Figure size 432x288 with 1 Axes>"
      ]
     },
     "metadata": {},
     "output_type": "display_data"
    }
   ],
   "source": [
    "plt.plot(np.log(sw2.errors))"
   ]
  },
  {
   "cell_type": "code",
   "execution_count": 595,
   "metadata": {},
   "outputs": [
    {
     "data": {
      "text/plain": [
       "[<matplotlib.lines.Line2D at 0x1e547207358>]"
      ]
     },
     "execution_count": 595,
     "metadata": {},
     "output_type": "execute_result"
    },
    {
     "data": {
      "image/png": "[encoded data removed]",
      "text/plain": [
       "<Figure size 432x288 with 1 Axes>"
      ]
     },
     "metadata": {},
     "output_type": "display_data"
    }
   ],
   "source": [
    "plt.plot(sw1.evals)"
   ]
  },
  {
   "cell_type": "code",
   "execution_count": null,
   "metadata": {},
   "outputs": [],
   "source": []
  },
  {
   "cell_type": "code",
   "execution_count": null,
   "metadata": {},
   "outputs": [],
   "source": []
  }
 ],
 "metadata": {
  "kernelspec": {
   "display_name": "Python 3",
   "language": "python",
   "name": "python3"
  },
  "language_info": {
   "codemirror_mode": {
    "name": "ipython",
    "version": 3
   },
   "file_extension": ".py",
   "mimetype": "text/x-python",
   "name": "python",
   "nbconvert_exporter": "python",
   "pygments_lexer": "ipython3",
   "version": "3.6.5"
  }
 },
 "nbformat": 4,
 "nbformat_minor": 2
}
