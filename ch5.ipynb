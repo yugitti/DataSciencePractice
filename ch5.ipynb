{
 "cells": [
  {
   "cell_type": "code",
   "execution_count": 64,
   "metadata": {},
   "outputs": [],
   "source": [
    "import numpy as np\n",
    "import matplotlib.pyplot as plt\n",
    "import seaborn as sns\n",
    "import pandas as pd\n",
    "from scipy import stats\n",
    "plt.style.use('dark_background')\n",
    "%precision 4\n",
    "%matplotlib inline"
   ]
  },
  {
   "cell_type": "markdown",
   "metadata": {},
   "source": [
    "#### scipy使い方全般"
   ]
  },
  {
   "cell_type": "markdown",
   "metadata": {},
   "source": [
    "#### 線形補間"
   ]
  },
  {
   "cell_type": "code",
   "execution_count": 65,
   "metadata": {},
   "outputs": [],
   "source": [
    "x = np.linspace(0,10,num=11, endpoint=True)\n",
    "y = np.cos(-x**2/5.0)"
   ]
  },
  {
   "cell_type": "code",
   "execution_count": 66,
   "metadata": {},
   "outputs": [
    {
     "data": {
      "text/plain": [
       "<matplotlib.legend.Legend at 0x18bf1540fd0>"
      ]
     },
     "execution_count": 66,
     "metadata": {},
     "output_type": "execute_result"
    },
    {
     "data": {
      "image/png": "[encoded data removed]",
      "text/plain": [
       "<Figure size 432x288 with 1 Axes>"
      ]
     },
     "metadata": {},
     "output_type": "display_data"
    }
   ],
   "source": [
    "from scipy import interpolate\n",
    "f1 = interpolate.interp1d(x,y,'linear')\n",
    "f2 = interpolate.interp1d(x,y,'quadratic')\n",
    "f3 = interpolate.interp1d(x,y,'cubic')\n",
    "xx = np.linspace(0,10,100)\n",
    "plt.scatter(x,y, marker='o')\n",
    "plt.plot(xx,f1(xx), label='1-order')\n",
    "plt.plot(xx,f2(xx), label='2-order')\n",
    "plt.plot(xx,f3(xx), label='3-order')\n",
    "plt.legend()"
   ]
  },
  {
   "cell_type": "markdown",
   "metadata": {},
   "source": [
    "#### 線形代数: 行列の分解"
   ]
  },
  {
   "cell_type": "code",
   "execution_count": 67,
   "metadata": {},
   "outputs": [],
   "source": [
    "import scipy as sp\n",
    "A = np.array(range(1,11,1)).reshape(2,-1)"
   ]
  },
  {
   "cell_type": "markdown",
   "metadata": {},
   "source": [
    "#### 特異値分解"
   ]
  },
  {
   "cell_type": "code",
   "execution_count": 68,
   "metadata": {},
   "outputs": [
    {
     "name": "stdout",
     "output_type": "stream",
     "text": [
      "[[ 1.  2.  3.  4.  5.]\n",
      " [ 6.  7.  8.  9. 10.]]\n"
     ]
    }
   ],
   "source": [
    "U, s, V = sp.linalg.svd(A)\n",
    "m, n = A.shape\n",
    "S = sp.linalg.diagsvd(s,m,n) # 対角行列\n",
    "print(U@S@V)"
   ]
  },
  {
   "cell_type": "markdown",
   "metadata": {},
   "source": [
    "#### LU分解\n",
    "行列を上三角行列と下三角行列に分解する手法  \n",
    "連立方程式を高速に解くことができる"
   ]
  },
  {
   "cell_type": "code",
   "execution_count": 69,
   "metadata": {},
   "outputs": [
    {
     "name": "stdout",
     "output_type": "stream",
     "text": [
      "[-3.  4.  4.  4.  4.]\n"
     ]
    }
   ],
   "source": [
    "# LU分解\n",
    "#参考URL: https://mathwords.net/lubunkai\n",
    "A = np.identity(5)\n",
    "A[0,:] = 1\n",
    "A[:,0] = 1\n",
    "A[0,0] = 5\n",
    "b = np.ones(5)\n",
    "# Ax - b = 0 を解く\n",
    "LU, piv = sp.linalg.lu_factor(A)\n",
    "L = np.identity(5) + np.tril(LU,-1) # 対角成分は1の下三角行列\n",
    "U = np.triu(LU) # 対角成分はLUを用いた上三角行列\n",
    "# L@U = A となる\n",
    "# x = sp.linalg.lu_solve((LU, piv), b) # 省略形、これでも解ける\n",
    "\n",
    "# U x = y, L y = b と分解できる。まずはyを解き、その後 xを解く\n",
    "y = sp.linalg.solve(L, b)\n",
    "x = sp.linalg.solve(U, y)\n",
    "\n",
    "# ちなみに sp.linalg.solveは LUPACKを使って高速に解く手法で下記と等価\n",
    "x = sp.linalg.inv(U)@y\n",
    "\n",
    "print(x)"
   ]
  },
  {
   "cell_type": "markdown",
   "metadata": {},
   "source": [
    "#### コレスキー分解\n",
    "元となる行列が正定値対処行列（上下で対象）のみに有効。LU分解の特殊価値\n",
    "$A = LL^{T}: Lは1上三角行列$"
   ]
  },
  {
   "cell_type": "code",
   "execution_count": 70,
   "metadata": {},
   "outputs": [],
   "source": [
    "A = np.array([[7, -1, 0, 1],\n",
    "            [-1, 9, -2, 2],\n",
    "            [0, -2, 8, -3],\n",
    "            [1, 2, -3, 10]])\n",
    "b = np.array([5, 20, 0, 20])"
   ]
  },
  {
   "cell_type": "code",
   "execution_count": 71,
   "metadata": {},
   "outputs": [],
   "source": [
    "L = sp.linalg.cholesky(A)"
   ]
  },
  {
   "cell_type": "code",
   "execution_count": 72,
   "metadata": {},
   "outputs": [
    {
     "data": {
      "text/plain": [
       "array([[ 7., -1.,  0.,  1.],\n",
       "       [-1.,  9., -2.,  2.],\n",
       "       [ 0., -2.,  8., -3.],\n",
       "       [ 1.,  2., -3., 10.]])"
      ]
     },
     "execution_count": 72,
     "metadata": {},
     "output_type": "execute_result"
    }
   ],
   "source": [
    "# A は Lの転置行列の共役成分(L*)とLの内積\n",
    "L.T.conj()@L # この例ではLは正定行列のため L.T = L.T.conj()"
   ]
  },
  {
   "cell_type": "code",
   "execution_count": 73,
   "metadata": {},
   "outputs": [
    {
     "name": "stdout",
     "output_type": "stream",
     "text": [
      "[-8.8818e-16  3.5527e-15  2.6645e-15 -3.5527e-15]\n"
     ]
    }
   ],
   "source": [
    "# L* @ L x = b を解く\n",
    "y = sp.linalg.solve(L.T.conj(), b)\n",
    "x = sp.linalg.solve(L, y)\n",
    "print(A@x - b)"
   ]
  },
  {
   "cell_type": "markdown",
   "metadata": {},
   "source": [
    "#### 積分"
   ]
  },
  {
   "cell_type": "markdown",
   "metadata": {},
   "source": [
    "例として$\\int_{0}^{1} \\frac{4}{1+x^2}dx$の積分を求める"
   ]
  },
  {
   "cell_type": "code",
   "execution_count": 74,
   "metadata": {},
   "outputs": [
    {
     "data": {
      "text/plain": [
       "(3.1416, 0.0000)"
      ]
     },
     "execution_count": 74,
     "metadata": {},
     "output_type": "execute_result"
    }
   ],
   "source": [
    "from scipy import integrate\n",
    "import math\n",
    "def calc(x):\n",
    "    return 4 / (1 + x**2)\n",
    "integrate.quad(calc, 0, 1)"
   ]
  },
  {
   "cell_type": "markdown",
   "metadata": {},
   "source": [
    "### 最適化問題"
   ]
  },
  {
   "cell_type": "markdown",
   "metadata": {},
   "source": [
    "$f(x) = 2 x^2 + 2 x - 10$において$f(x) = 0$となる$x$を解く "
   ]
  },
  {
   "cell_type": "code",
   "execution_count": 75,
   "metadata": {},
   "outputs": [],
   "source": [
    "from scipy.optimize import fsolve, minimize"
   ]
  },
  {
   "cell_type": "code",
   "execution_count": 76,
   "metadata": {},
   "outputs": [],
   "source": [
    "def f(x):\n",
    "    return 2*x**2 + 2*x - 10"
   ]
  },
  {
   "cell_type": "code",
   "execution_count": 77,
   "metadata": {},
   "outputs": [
    {
     "data": {
      "text/plain": [
       "[<matplotlib.lines.Line2D at 0x18bf159d828>]"
      ]
     },
     "execution_count": 77,
     "metadata": {},
     "output_type": "execute_result"
    },
    {
     "data": {
      "image/png": "[encoded data removed]",
      "text/plain": [
       "<Figure size 432x288 with 1 Axes>"
      ]
     },
     "metadata": {},
     "output_type": "display_data"
    }
   ],
   "source": [
    "x = np.linspace(-4,4,100)\n",
    "plt.plot(x, f(x))"
   ]
  },
  {
   "cell_type": "code",
   "execution_count": 78,
   "metadata": {},
   "outputs": [
    {
     "name": "stdout",
     "output_type": "stream",
     "text": [
      "[1.7913]\n"
     ]
    }
   ],
   "source": [
    "x_at2 = fsolve(f, 2)\n",
    "print(x_at2)"
   ]
  },
  {
   "cell_type": "markdown",
   "metadata": {},
   "source": [
    "#### 適化問題を解く\n",
    "$\\min x_1 x_4(x_1 + x_2 + x_3) + x_3 \\\\\n",
    "s.t x_1 x_2 x_3 x_4 \\geq 25 \\\\\n",
    "1 \\leq x_1 , x_2 , x_3 , x_4 \\leq 5 \\\\\n",
    "x_0 = (1, 5, 5 ,1) \\\\\n",
    "40 - (x_1^{2} + x_2^{2} + x_3^{2} + x_4^{2} \\geq 0$"
   ]
  },
  {
   "cell_type": "code",
   "execution_count": 79,
   "metadata": {},
   "outputs": [],
   "source": [
    "# 最小化する関数\n",
    "def objective(x):\n",
    "    return x[0] * x[3] * (x[0] + x[1] + x[2]) + x[2]"
   ]
  },
  {
   "cell_type": "code",
   "execution_count": 80,
   "metadata": {},
   "outputs": [],
   "source": [
    "# 制約1\n",
    "def constraint1(x):\n",
    "    return np.prod(x) - 25"
   ]
  },
  {
   "cell_type": "code",
   "execution_count": 81,
   "metadata": {},
   "outputs": [],
   "source": [
    "# 制約2\n",
    "def constraint2(x):\n",
    "    return 40 - (x**2).sum()"
   ]
  },
  {
   "cell_type": "code",
   "execution_count": 82,
   "metadata": {},
   "outputs": [
    {
     "name": "stdout",
     "output_type": "stream",
     "text": [
      "-180.55831037649222\n"
     ]
    }
   ],
   "source": [
    "x0 = np.array([1,5,5,1])\n",
    "print(objective(x))"
   ]
  },
  {
   "cell_type": "code",
   "execution_count": 83,
   "metadata": {},
   "outputs": [],
   "source": [
    "b = (1.0, 5.0)\n",
    "bnds = (b, b, b, b)\n",
    "con1 = {'type': 'ineq', 'fun': constraint1}\n",
    "con2 = {'type': 'ineq', 'fun': constraint2}\n",
    "cons = [con1, con2]"
   ]
  },
  {
   "cell_type": "code",
   "execution_count": 84,
   "metadata": {},
   "outputs": [],
   "source": [
    "sol = minimize(objective, x0, method='SLSQP', bounds=bnds, constraints=cons)"
   ]
  },
  {
   "cell_type": "code",
   "execution_count": 85,
   "metadata": {},
   "outputs": [
    {
     "name": "stdout",
     "output_type": "stream",
     "text": [
      "     fun: 17.014017245554697\n",
      "     jac: array([14.5723,  1.3794,  2.3794,  9.5642])\n",
      " message: 'Optimization terminated successfully.'\n",
      "    nfev: 30\n",
      "     nit: 5\n",
      "    njev: 5\n",
      "  status: 0\n",
      " success: True\n",
      "       x: array([1.    , 4.743 , 3.8212, 1.3794])\n"
     ]
    }
   ],
   "source": [
    "print(sol)"
   ]
  },
  {
   "cell_type": "code",
   "execution_count": 86,
   "metadata": {},
   "outputs": [
    {
     "name": "stdout",
     "output_type": "stream",
     "text": [
      "y: 17.014017245554697\n",
      "x: [1.     4.743  3.8212 1.3794]\n"
     ]
    }
   ],
   "source": [
    "print(\"y:\", sol.fun)\n",
    "print(\"x:\", sol.x)"
   ]
  },
  {
   "cell_type": "markdown",
   "metadata": {},
   "source": [
    "#### 練習問題 5-13"
   ]
  },
  {
   "cell_type": "code",
   "execution_count": 87,
   "metadata": {},
   "outputs": [
    {
     "name": "stdout",
     "output_type": "stream",
     "text": [
      "[[ 1.  2.  3.  4.]\n",
      " [ 5.  6.  7.  8.]\n",
      " [ 9. 10. 11. 12.]]\n"
     ]
    }
   ],
   "source": [
    "B = np.arange(1, 13, 1).reshape([3,4])\n",
    "U, s, V = sp.linalg.svd(B)\n",
    "S = sp.linalg.diagsvd(s, B.shape[0], B.shape[1])\n",
    "print(U@S@V)"
   ]
  },
  {
   "cell_type": "markdown",
   "metadata": {},
   "source": [
    "#### 練習問題 5-14"
   ]
  },
  {
   "cell_type": "code",
   "execution_count": 88,
   "metadata": {},
   "outputs": [],
   "source": [
    "A = np.identity(3)\n",
    "A[0,:] = 1\n",
    "A[:, 0] = 1\n",
    "A[0,0] = 3\n",
    "b = np.ones(3)"
   ]
  },
  {
   "cell_type": "code",
   "execution_count": 89,
   "metadata": {},
   "outputs": [
    {
     "name": "stdout",
     "output_type": "stream",
     "text": [
      "[-1.  2.  2.]\n"
     ]
    }
   ],
   "source": [
    "LU, piv = sp.linalg.lu_factor(A)\n",
    "L = sp.identity(len(b)) + sp.linalg.tril(LU, -1)\n",
    "U = sp.linalg.triu(LU)\n",
    "y = sp.linalg.solve(L, b)\n",
    "x = sp.linalg.solve(U, y)\n",
    "print(x)"
   ]
  },
  {
   "cell_type": "code",
   "execution_count": 90,
   "metadata": {},
   "outputs": [],
   "source": [
    "# この方法も使える\n",
    "LU, L, U = sp.linalg.lu(A)\n",
    "y = sp.linalg.solve(L, b)\n",
    "x = sp.linalg.solve(U, y)"
   ]
  },
  {
   "cell_type": "markdown",
   "metadata": {},
   "source": [
    "#### 練習問題 5-15"
   ]
  },
  {
   "cell_type": "code",
   "execution_count": 91,
   "metadata": {},
   "outputs": [
    {
     "data": {
      "text/plain": [
       "(8.6667, 0.0000)"
      ]
     },
     "execution_count": 91,
     "metadata": {},
     "output_type": "execute_result"
    }
   ],
   "source": [
    "integrate.quad(lambda x: (x+1)**2, 0, 2)"
   ]
  },
  {
   "cell_type": "markdown",
   "metadata": {},
   "source": [
    "#### 練習問題 5-16"
   ]
  },
  {
   "cell_type": "code",
   "execution_count": 92,
   "metadata": {},
   "outputs": [
    {
     "data": {
      "text/plain": [
       "(0.0000, 0.0000)"
      ]
     },
     "execution_count": 92,
     "metadata": {},
     "output_type": "execute_result"
    }
   ],
   "source": [
    "integrate.quad(lambda x: np.cos(x), 0, np.pi)"
   ]
  },
  {
   "cell_type": "markdown",
   "metadata": {},
   "source": [
    "#### 練習問題 5-17"
   ]
  },
  {
   "cell_type": "code",
   "execution_count": 93,
   "metadata": {},
   "outputs": [
    {
     "data": {
      "text/plain": [
       "array([2.])"
      ]
     },
     "execution_count": 93,
     "metadata": {},
     "output_type": "execute_result"
    }
   ],
   "source": [
    "fsolve(lambda x: 5*x - 10, 0)"
   ]
  },
  {
   "cell_type": "markdown",
   "metadata": {},
   "source": [
    "#### 練習問題 5-18"
   ]
  },
  {
   "cell_type": "code",
   "execution_count": 94,
   "metadata": {},
   "outputs": [
    {
     "data": {
      "text/plain": [
       "array([1.])"
      ]
     },
     "execution_count": 94,
     "metadata": {},
     "output_type": "execute_result"
    }
   ],
   "source": [
    "fsolve(lambda x: x**3 - 2*x**2 - 11*x + 12, 0)"
   ]
  },
  {
   "cell_type": "markdown",
   "metadata": {},
   "source": [
    "#### 総合問題 5-1"
   ]
  },
  {
   "cell_type": "code",
   "execution_count": 95,
   "metadata": {},
   "outputs": [],
   "source": [
    "A = np.array([[5,1,0,1],\n",
    "             [1,9,-5,7],\n",
    "             [0,-5,8,-3],\n",
    "             [1,7,-3,10]])\n",
    "b = np.array([2,10,5,10])"
   ]
  },
  {
   "cell_type": "code",
   "execution_count": 99,
   "metadata": {},
   "outputs": [],
   "source": [
    "L = sp.linalg.cholesky(A)\n",
    "y = sp.linalg.solve(L.T.conj(), b)\n",
    "x = sp.linalg.solve(L, y)"
   ]
  },
  {
   "cell_type": "code",
   "execution_count": 101,
   "metadata": {},
   "outputs": [
    {
     "data": {
      "text/plain": [
       "array([ 2., 10.,  5., 10.])"
      ]
     },
     "execution_count": 101,
     "metadata": {},
     "output_type": "execute_result"
    }
   ],
   "source": [
    "A@x"
   ]
  },
  {
   "cell_type": "markdown",
   "metadata": {},
   "source": [
    "#### 総合問題 5-2"
   ]
  },
  {
   "cell_type": "code",
   "execution_count": 102,
   "metadata": {},
   "outputs": [],
   "source": [
    "def f(x, y):\n",
    "    return 1 / (np.sqrt(x + y) * (1 + x + y)**2)"
   ]
  },
  {
   "cell_type": "code",
   "execution_count": 103,
   "metadata": {},
   "outputs": [
    {
     "data": {
      "text/plain": [
       "(0.2854, 0.0000)"
      ]
     },
     "execution_count": 103,
     "metadata": {},
     "output_type": "execute_result"
    }
   ],
   "source": [
    "sp.integrate.dblquad(f, 0, 1, lambda x: 0, lambda x: 1 - x)"
   ]
  },
  {
   "cell_type": "markdown",
   "metadata": {},
   "source": [
    "#### 総合問題 5-3"
   ]
  },
  {
   "cell_type": "code",
   "execution_count": 115,
   "metadata": {},
   "outputs": [],
   "source": [
    "def objective(x):\n",
    "    return x**2 + 1\n",
    "def constraint(x):\n",
    "    return x + 1"
   ]
  },
  {
   "cell_type": "code",
   "execution_count": 120,
   "metadata": {},
   "outputs": [],
   "source": [
    "x0 = np.array([10])\n",
    "b = (-20, 30)\n",
    "bnds = [b]\n",
    "con = {'type': 'ineq', 'fun': constraint}\n",
    "cons = [con]\n",
    "sol = minimize(objective, x0, method='SLSQP', bounds=bnds, constraints=cons)"
   ]
  },
  {
   "cell_type": "code",
   "execution_count": 121,
   "metadata": {},
   "outputs": [
    {
     "name": "stdout",
     "output_type": "stream",
     "text": [
      "     fun: 1.0\n",
      "     jac: array([0.])\n",
      " message: 'Optimization terminated successfully.'\n",
      "    nfev: 9\n",
      "     nit: 3\n",
      "    njev: 3\n",
      "  status: 0\n",
      " success: True\n",
      "       x: array([-6.7733e-09])\n"
     ]
    }
   ],
   "source": [
    "print(sol)"
   ]
  },
  {
   "cell_type": "code",
   "execution_count": 122,
   "metadata": {},
   "outputs": [
    {
     "name": "stdout",
     "output_type": "stream",
     "text": [
      "y: 1.0\n",
      "x: [-6.7733e-09]\n"
     ]
    }
   ],
   "source": [
    "print(\"y:\", sol.fun)\n",
    "print(\"x:\", sol.x)"
   ]
  },
  {
   "cell_type": "code",
   "execution_count": null,
   "metadata": {},
   "outputs": [],
   "source": []
  }
 ],
 "metadata": {
  "kernelspec": {
   "display_name": "Python 3",
   "language": "python",
   "name": "python3"
  },
  "language_info": {
   "codemirror_mode": {
    "name": "ipython",
    "version": 3
   },
   "file_extension": ".py",
   "mimetype": "text/x-python",
   "name": "python",
   "nbconvert_exporter": "python",
   "pygments_lexer": "ipython3",
   "version": "3.6.5"
  }
 },
 "nbformat": 4,
 "nbformat_minor": 2
}
